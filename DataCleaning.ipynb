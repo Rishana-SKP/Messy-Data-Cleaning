{
 "cells": [
  {
   "cell_type": "markdown",
   "id": "e1db10d0-ac37-4073-98fc-e58a495098bc",
   "metadata": {},
   "source": [
    "<h1 align=\"center\"><font color='Red'>Assignment for Data QA & QC Internship @ Datahut</font></h1>"
   ]
  },
  {
   "cell_type": "markdown",
   "id": "919cb109-48b6-4cb3-987c-58826ab9aeb5",
   "metadata": {},
   "source": [
    "#### Name: Rishana\n",
    "#### Organization: Datahut\n",
    "#### Date: 21.06.2024"
   ]
  },
  {
   "cell_type": "markdown",
   "id": "8ecfb526-cc95-468e-98b4-5d04c68fe746",
   "metadata": {},
   "source": [
    "#### <b><font color='brown'>IMPORTING MODULES:</font></b>"
   ]
  },
  {
   "cell_type": "code",
   "execution_count": null,
   "id": "dec1a739-612f-4015-bde9-9b254813fb7d",
   "metadata": {},
   "outputs": [],
   "source": [
    "#importing libraries\n",
    "import pandas as pd\n",
    "import numpy as np\n",
    "import seaborn as sns\n",
    "import matplotlib.pyplot as plt\n",
    "%matplotlib inline\n",
    "import re\n",
    "import math\n",
    "import sklearn\n",
    "from sklearn.model_selection import train_test_split\n",
    "from sklearn.preprocessing import StandardScaler"
   ]
  },
  {
   "cell_type": "code",
   "execution_count": null,
   "id": "751a8408-452b-4aa1-add6-ed857e2cabc4",
   "metadata": {},
   "outputs": [],
   "source": [
    "# Ignore warnings\n",
    "import warnings\n",
    "warnings.filterwarnings('ignore')"
   ]
  },
  {
   "cell_type": "markdown",
   "id": "5eee3b36-315e-4ee6-8879-f99b82574a87",
   "metadata": {},
   "source": [
    "#### <b><font color='brown'>LOADING DATASET:</font></b>"
   ]
  },
  {
   "cell_type": "code",
   "execution_count": null,
   "id": "91c7fddb-91aa-4153-b9d2-5f54eb34889b",
   "metadata": {},
   "outputs": [],
   "source": [
    "#loading data\n",
    "df=pd.read_csv('messy_data.csv')\n",
    "df"
   ]
  },
  {
   "cell_type": "markdown",
   "id": "707fcdaf-4d6f-408f-b94d-4a153f0776b9",
   "metadata": {},
   "source": [
    "#### <b><font color='brown'>DATA EXPLORATION</font></b>"
   ]
  },
  {
   "cell_type": "code",
   "execution_count": null,
   "id": "f8c6b03c-bfe1-430c-8a61-2df27cdacadb",
   "metadata": {},
   "outputs": [],
   "source": [
    "# To get info\n",
    "df.info()"
   ]
  },
  {
   "cell_type": "code",
   "execution_count": null,
   "id": "0a1927be-1619-46b4-a54f-13baedfa854d",
   "metadata": {},
   "outputs": [],
   "source": [
    "df.shape"
   ]
  },
  {
   "cell_type": "code",
   "execution_count": null,
   "id": "36f77c10-769b-414b-aea8-2a3eb22189f2",
   "metadata": {},
   "outputs": [],
   "source": [
    "#To display the initial rows\n",
    "df.head()"
   ]
  },
  {
   "cell_type": "code",
   "execution_count": null,
   "id": "ff5415ff-c28d-431f-a03f-af620105da96",
   "metadata": {},
   "outputs": [],
   "source": [
    "#To display the final rows of the DataFrame\n",
    "df.tail()"
   ]
  },
  {
   "cell_type": "code",
   "execution_count": null,
   "id": "8b063e4f-81df-4b94-866c-994d5d3c5ca2",
   "metadata": {},
   "outputs": [],
   "source": [
    "#To display column labels of DataFrame\n",
    "df.columns"
   ]
  },
  {
   "cell_type": "code",
   "execution_count": null,
   "id": "cdeadb55-8541-4104-b390-489c1ac97379",
   "metadata": {},
   "outputs": [],
   "source": [
    "# Display summary statistics to identify outliers and inconsistencies\n",
    "print(\"\\nStatistical analysis\")\n",
    "df.describe(include='all')"
   ]
  },
  {
   "cell_type": "code",
   "execution_count": null,
   "id": "21b1a42b-0bd5-4751-9fa0-0dd9a4bce2d5",
   "metadata": {},
   "outputs": [],
   "source": [
    "#unique value counts\n",
    "for column in df.columns:\n",
    "    unique_values_count = df[column].nunique()\n",
    "    print(f\"Unique values count for {column}: {unique_values_count}\")"
   ]
  },
  {
   "cell_type": "code",
   "execution_count": null,
   "id": "69abe76a-7ac9-4487-9e13-d929a956e7b7",
   "metadata": {},
   "outputs": [],
   "source": [
    "# Display the unique values in each column to identify inconsistencies\n",
    "unique_values = {col: df[col].unique() for col in df.columns}\n",
    "print(unique_values)"
   ]
  },
  {
   "cell_type": "code",
   "execution_count": null,
   "id": "651527a7-0e40-4673-816d-ffea080bc589",
   "metadata": {},
   "outputs": [],
   "source": [
    "df['Name'].unique()"
   ]
  },
  {
   "cell_type": "markdown",
   "id": "a382ff09-030a-465a-ae71-e85ff6651f47",
   "metadata": {},
   "source": [
    "#### <b><font color='brown'>DATA PREPROCESSING</font></b>"
   ]
  },
  {
   "cell_type": "code",
   "execution_count": null,
   "id": "2d64fe8e-fc23-4c26-a921-9c388a51fe7f",
   "metadata": {},
   "outputs": [],
   "source": [
    "# Dropping the unnecessary 'Unnamed: 0' and 'ID' column\n",
    "# Reason: These column not needed for analysis.\n",
    "df.drop(columns=['Unnamed: 0', 'ID'], inplace=True)"
   ]
  },
  {
   "cell_type": "code",
   "execution_count": null,
   "id": "b23718d2-ec7a-45aa-ad25-afba523d3d54",
   "metadata": {},
   "outputs": [],
   "source": [
    "#Checking is there any null value\n",
    "df.isnull().sum()"
   ]
  },
  {
   "cell_type": "markdown",
   "id": "966fbcc3-542d-416a-a2a5-aa5f67d3d38f",
   "metadata": {},
   "source": [
    "Most column contains null values"
   ]
  },
  {
   "cell_type": "code",
   "execution_count": null,
   "id": "180dca2e-a282-4717-b997-df522aa735ee",
   "metadata": {},
   "outputs": [],
   "source": [
    "# Fill missing numerical values with median\n",
    "df['Age'].fillna(df['Age'].median(), inplace=True)\n",
    "\n",
    "df['Salary'].fillna(df['Salary'].median(), inplace=True)\n",
    "\n",
    "# For 'Department', fill missing values with 'Unknown'\n",
    "df['Department'] = df['Department'].fillna('Unknown')\n",
    "\n",
    "# For 'Join Date', fill missing values with '1970-01-01'\n",
    "df['Join Date'] = df['Join Date'].fillna('1970-01-01')"
   ]
  },
  {
   "cell_type": "code",
   "execution_count": null,
   "id": "7faced7c-6931-4e5e-970f-c5699effcdb7",
   "metadata": {},
   "outputs": [],
   "source": [
    "#ensuring all null values are replaced\n",
    "df.isnull().sum()"
   ]
  },
  {
   "cell_type": "code",
   "execution_count": null,
   "id": "f2536a7d-4ec5-409f-9803-93d99014e9dd",
   "metadata": {},
   "outputs": [],
   "source": [
    "# Dropping Duplicates\n",
    "df=df.drop_duplicates()\n",
    "df=df.reset_index(drop=True)\n",
    "df"
   ]
  },
  {
   "cell_type": "code",
   "execution_count": null,
   "id": "a518e8ce-ebca-4c9d-93a8-ce502e603cfa",
   "metadata": {},
   "outputs": [],
   "source": [
    "# Assumption: Valid emails contain \"@\" and a domain. Invalid emails will be corrected if possible.\n",
    "def correct_email(email):\n",
    "    if pd.isna(email):\n",
    "        return email\n",
    "    if not re.match(r'.+@.+\\..+', email):\n",
    "        parts = email.split('@')\n",
    "        if len(parts) == 1:\n",
    "            return parts[0] + \"@example.com\"\n",
    "        elif len(parts) == 2:\n",
    "            if '.' not in parts[1]:\n",
    "                return parts[0] + \"@\" + parts[1] + \".com\"\n",
    "    return email\n",
    "\n",
    "df['Email'] = df['Email'].apply(correct_email)"
   ]
  },
  {
   "cell_type": "code",
   "execution_count": null,
   "id": "c08b51af-706a-4738-bf90-8bf8a8e50b88",
   "metadata": {},
   "outputs": [],
   "source": [
    "df['Email'].unique()"
   ]
  },
  {
   "cell_type": "code",
   "execution_count": null,
   "id": "27ec6275-7557-4d48-81ab-6c416219ad60",
   "metadata": {},
   "outputs": [],
   "source": [
    "#filtering professional emails\n",
    "\n",
    "#function to check for professional email formats\n",
    "def is_professional_email(email):\n",
    "    if pd.isna(email):\n",
    "        return False\n",
    "    # Match email against the professional domains\n",
    "    return bool(re.match(r'.+@.+\\.(com|org|net|biz|info)$', email))\n",
    "\n",
    "# Filter the dataframe to retain only rows with professional emails\n",
    "df = df[df['Email'].apply(is_professional_email)]"
   ]
  },
  {
   "cell_type": "code",
   "execution_count": null,
   "id": "23ab58ae-c6c4-4c36-b64b-0c43f75d65ee",
   "metadata": {},
   "outputs": [],
   "source": [
    "# Define a function to clean the 'Name' column\n",
    "\n",
    "#Clean the Name column\n",
    "\n",
    "# Assumption: Names should only contain alphabetic characters and spaces.Remove non-alphabetic characters at the end of the name and ensure proper capitalization.\n",
    "\n",
    "def clean_name(name):\n",
    "    if pd.isna(name):\n",
    "        return name\n",
    "    # Remove non-alphabetic characters from the end of the name\n",
    "    name = re.sub(r'[^a-zA-Z\\s]+$', '', name)\n",
    "    # Ensure proper capitalization\n",
    "    name = name.title()\n",
    "    return name\n",
    "\n",
    "# Apply the clean_name function to the 'Name' column\n",
    "df['Name'] = df['Name'].astype(str).apply(clean_name)"
   ]
  },
  {
   "cell_type": "code",
   "execution_count": null,
   "id": "6ac4825a-6d95-4aca-b907-1705a7b468d0",
   "metadata": {},
   "outputs": [],
   "source": [
    "df['Name'].unique()"
   ]
  },
  {
   "cell_type": "code",
   "execution_count": null,
   "id": "234c2749-439a-4f78-8e65-820a9d5959a4",
   "metadata": {},
   "outputs": [],
   "source": [
    "#Standardize the Join Date column\n",
    "# Assumption: Dates should follow the format YYYY-MM-DD.\n",
    "df['Join Date'] = pd.to_datetime(df['Join Date'], errors='coerce')\n",
    "df['Join Date'] = df['Join Date'].dt.strftime('%Y-%m-%d')"
   ]
  },
  {
   "cell_type": "code",
   "execution_count": null,
   "id": "bb70d3f3-6e22-4187-9c2c-a98f84dd5494",
   "metadata": {},
   "outputs": [],
   "source": [
    "df['Join Date'].unique()"
   ]
  },
  {
   "cell_type": "code",
   "execution_count": null,
   "id": "7c7415ff-0aac-4409-8b54-8bb25184dab6",
   "metadata": {},
   "outputs": [],
   "source": [
    "#  Standardize Department Names\n",
    "# Assumption: Known department name variations and typos are mapped to standard names.\n",
    "department_mapping = {\n",
    "    'Hr': 'HR',\n",
    "    'Human Resources': 'HR',\n",
    "    'Eng': 'Engineering',\n",
    "    'Engg': 'Engineering',\n",
    "    'Engine': 'Engineering',\n",
    "    'Mktg': 'Marketing',\n",
    "    'Mkt': 'Marketing',\n",
    "    'Mrkt': 'Marketing',\n",
    "    'Sales': 'Sales',\n",
    "    'Support': 'Support',\n",
    "    'Suppt': 'Support',\n",
    "    'Cust Support': 'Support',\n",
    "    'Customer Support': 'Support',\n",
    "    # Add any other known typos or variations\n",
    "}\n",
    "\n",
    "def standardize_department(department):\n",
    "    return department_mapping.get(department, department)\n",
    "\n",
    "\n",
    "df['Department'] = df['Department'].apply(standardize_department)"
   ]
  },
  {
   "cell_type": "code",
   "execution_count": null,
   "id": "126d3bf9-f57d-487f-bbfd-a13be93b598c",
   "metadata": {},
   "outputs": [],
   "source": [
    "#outlier detection\n",
    "sns.distplot(df['Salary'])\n",
    "plt.show()"
   ]
  },
  {
   "cell_type": "code",
   "execution_count": null,
   "id": "71a5f8a7-7b47-449c-913d-54200c4f721c",
   "metadata": {
    "jp-MarkdownHeadingCollapsed": true
   },
   "outputs": [],
   "source": [
    "# Identify outliers in 'Salary' using IQR method\n",
    "Q1 = df['Salary'].quantile(0.25)\n",
    "Q3 = df['Salary'].quantile(0.75)\n",
    "IQR = Q3 - Q1\n",
    "\n",
    "lw = Q1 - 1.5 * IQR\n",
    "uw = Q3 + 1.5 * IQR\n",
    "\n",
    "#capping 'salary' column\n",
    "df['Salary'] = np.where(df['Salary'] < lw, lw, df['Salary'])\n",
    "df['Salary'] = np.where(df['Salary'] > uw, uw, df['Salary'])"
   ]
  },
  {
   "cell_type": "code",
   "execution_count": null,
   "id": "ea95984e-1175-4d02-96d2-073092ec7904",
   "metadata": {},
   "outputs": [],
   "source": [
    "#save the cleaned dataset as `cleaned_dataset.csv`.\n",
    "cleaned_file_path = 'cleaned_dataset.csv'\n",
    "df.to_csv(cleaned_file_path, index=False)"
   ]
  },
  {
   "cell_type": "code",
   "execution_count": null,
   "id": "53d4276f-8cbc-4a63-ab12-b16dff8dd81f",
   "metadata": {},
   "outputs": [],
   "source": []
  },
  {
   "cell_type": "code",
   "execution_count": null,
   "id": "47a1c268-5d04-44c4-ad38-4e24952c0ea5",
   "metadata": {},
   "outputs": [],
   "source": []
  },
  {
   "cell_type": "code",
   "execution_count": null,
   "id": "072ede78-14e5-4c74-8e26-e9f449da1ee1",
   "metadata": {},
   "outputs": [],
   "source": []
  },
  {
   "cell_type": "code",
   "execution_count": null,
   "id": "4adc9297-a159-487b-9c2c-ae2c7294a880",
   "metadata": {},
   "outputs": [],
   "source": []
  },
  {
   "cell_type": "code",
   "execution_count": null,
   "id": "87f63764-6bc9-434f-a404-5f0573ae2895",
   "metadata": {},
   "outputs": [],
   "source": [
    "# Identify outliers in 'Salary' using IQR method\n",
    "Q1 = df['Salary'].quantile(0.25)\n",
    "Q3 = df['Salary'].quantile(0.75)\n",
    "IQR = Q3 - Q1\n",
    "\n",
    "lower_bound = Q1 - 1.5 * IQR\n",
    "upper_bound = Q3 + 1.5 * IQR\n",
    "\n",
    "# Filter out the outliers\n",
    "df = df[(df['Salary'] >= lower_bound) & (df['Salary'] <= upper_bound)]"
   ]
  },
  {
   "cell_type": "code",
   "execution_count": null,
   "id": "bef225b4-4149-4c7a-b6e8-cfc31091d929",
   "metadata": {},
   "outputs": [],
   "source": [
    "sns.distplot(df['Salary'])\n",
    "plt.show()"
   ]
  },
  {
   "cell_type": "code",
   "execution_count": null,
   "id": "d60f3b16-ca0a-4681-965e-30f3ed966ae7",
   "metadata": {},
   "outputs": [],
   "source": [
    "df"
   ]
  },
  {
   "cell_type": "code",
   "execution_count": null,
   "id": "ae894998-7d3b-4eea-9cde-314e9ba4cb58",
   "metadata": {},
   "outputs": [],
   "source": []
  },
  {
   "cell_type": "code",
   "execution_count": null,
   "id": "62779276-1583-49f7-a3cd-33140847df8c",
   "metadata": {},
   "outputs": [],
   "source": []
  },
  {
   "cell_type": "code",
   "execution_count": null,
   "id": "9c8c493a-6188-496a-851b-82d66662a6ca",
   "metadata": {},
   "outputs": [],
   "source": []
  },
  {
   "cell_type": "code",
   "execution_count": null,
   "id": "b0da1015-e7fc-41da-8e80-4303bf365b03",
   "metadata": {},
   "outputs": [],
   "source": []
  },
  {
   "cell_type": "code",
   "execution_count": null,
   "id": "5b208801-074f-40b8-a5bf-db13fb1440c8",
   "metadata": {},
   "outputs": [],
   "source": []
  },
  {
   "cell_type": "code",
   "execution_count": null,
   "id": "f0c5853f-2830-4ede-b8cc-ef329ba6f8e0",
   "metadata": {},
   "outputs": [],
   "source": []
  }
 ],
 "metadata": {
  "kernelspec": {
   "display_name": "Python 3 (ipykernel)",
   "language": "python",
   "name": "python3"
  },
  "language_info": {
   "codemirror_mode": {
    "name": "ipython",
    "version": 3
   },
   "file_extension": ".py",
   "mimetype": "text/x-python",
   "name": "python",
   "nbconvert_exporter": "python",
   "pygments_lexer": "ipython3",
   "version": "3.12.0"
  }
 },
 "nbformat": 4,
 "nbformat_minor": 5
}
